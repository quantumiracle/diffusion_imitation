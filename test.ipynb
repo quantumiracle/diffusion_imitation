{
 "cells": [
  {
   "cell_type": "code",
   "execution_count": 1,
   "metadata": {},
   "outputs": [],
   "source": [
    "import pickle    \n",
    "with open(f'dataset/VFF-1686demos', 'rb') as f:\n",
    "    dataset = pickle.load(f)\n",
    "              "
   ]
  },
  {
   "cell_type": "code",
   "execution_count": 2,
   "metadata": {},
   "outputs": [
    {
     "data": {
      "text/plain": [
       "dict_keys(['observations', 'desired_goals', 'desired_goals_radi', 'actions', 'next_observations', 'rewards', 'terminals'])"
      ]
     },
     "execution_count": 2,
     "metadata": {},
     "output_type": "execute_result"
    }
   ],
   "source": [
    "dataset.keys()"
   ]
  },
  {
   "cell_type": "code",
   "execution_count": 5,
   "metadata": {},
   "outputs": [
    {
     "name": "stdout",
     "output_type": "stream",
     "text": [
      "(5640, 10)\n",
      "(5640, 7)\n",
      "(5640, 2)\n"
     ]
    }
   ],
   "source": [
    "print(dataset['observations'].shape)\n",
    "print(dataset['desired_goals'].shape)\n",
    "print(dataset['actions'].shape)"
   ]
  },
  {
   "cell_type": "code",
   "execution_count": 6,
   "metadata": {},
   "outputs": [
    {
     "data": {
      "text/plain": [
       "array([[-0.59539753, -0.14035055,  0.6349193 , -0.16413231, -0.07769869,\n",
       "        -0.00529537,  0.14501552, -0.00585843, -0.25550377, -1.1030204 ],\n",
       "       [-0.26332137,  0.17718582,  0.19188872, -0.16409327,  1.0292978 ,\n",
       "         0.01621559, -0.91327727, -0.0059587 ,  0.27116507, -1.109932  ],\n",
       "       [ 0.05782423,  0.18325911, -0.22928342, -0.16411838,  0.84696066,\n",
       "         0.00300169, -0.8233433 , -0.00594912,  0.7606346 , -1.1099112 ],\n",
       "       [-0.40101117, -0.13931169,  0.36389452,  0.15440586, -1.3898765 ,\n",
       "        -0.00868162,  1.3172023 ,  0.0175432 ,  0.7403973 , -0.47229013],\n",
       "       [-0.1813585 ,  0.17744859,  0.10014314, -0.16338399,  0.8751106 ,\n",
       "         0.01622449, -0.7704376 , -0.00929826,  1.1997566 , -0.3690132 ],\n",
       "       [-0.5775781 , -0.13933735,  0.568794  ,  0.15461648, -1.1947436 ,\n",
       "        -0.00862757,  1.0888245 ,  0.01748482,  1.161929  ,  0.16190672],\n",
       "       [-0.8765352 , -0.14031442,  0.8872898 ,  0.16132152, -0.956131  ,\n",
       "        -0.00666322,  0.8345614 ,  0.00325942,  1.1629049 ,  0.55753154],\n",
       "       [-1.1171963 , -0.14071861,  1.1283846 ,  0.1639678 , -0.7890166 ,\n",
       "        -0.00584929,  0.6758571 , -0.00229933,  1.1650273 ,  0.8606871 ],\n",
       "       [-0.7214138 ,  0.17756264,  0.72939783, -0.16333845,  1.3413345 ,\n",
       "         0.01630484, -1.0157889 , -0.00939362,  1.8183787 ,  0.95080435],\n",
       "       [-0.43593547, -0.13935024,  0.4117675 ,  0.15468341,  0.73289144,\n",
       "        -0.0085766 , -0.578686  ,  0.01761358,  1.9365752 ,  0.695788  ]],\n",
       "      dtype=float32)"
      ]
     },
     "execution_count": 6,
     "metadata": {},
     "output_type": "execute_result"
    }
   ],
   "source": [
    "dataset['observations'][:10]"
   ]
  },
  {
   "cell_type": "code",
   "execution_count": 9,
   "metadata": {},
   "outputs": [
    {
     "name": "stdout",
     "output_type": "stream",
     "text": [
      "1.0 -1.0\n"
     ]
    }
   ],
   "source": [
    "import numpy as np\n",
    "print(np.max(dataset['actions']), np.min(dataset['actions']))"
   ]
  },
  {
   "cell_type": "code",
   "execution_count": null,
   "metadata": {},
   "outputs": [],
   "source": []
  }
 ],
 "metadata": {
  "kernelspec": {
   "display_name": "x",
   "language": "python",
   "name": "python3"
  },
  "language_info": {
   "codemirror_mode": {
    "name": "ipython",
    "version": 3
   },
   "file_extension": ".py",
   "mimetype": "text/x-python",
   "name": "python",
   "nbconvert_exporter": "python",
   "pygments_lexer": "ipython3",
   "version": "3.7.0"
  }
 },
 "nbformat": 4,
 "nbformat_minor": 2
}
